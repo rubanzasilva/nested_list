{
  "nbformat": 4,
  "nbformat_minor": 0,
  "metadata": {
    "colab": {
      "provenance": [],
      "authorship_tag": "ABX9TyNZ1wUbnmw8vmFO/a2uhQu5",
      "include_colab_link": true
    },
    "kernelspec": {
      "name": "python3",
      "display_name": "Python 3"
    },
    "language_info": {
      "name": "python"
    }
  },
  "cells": [
    {
      "cell_type": "markdown",
      "metadata": {
        "id": "view-in-github",
        "colab_type": "text"
      },
      "source": [
        "<a href=\"https://colab.research.google.com/github/rubanzasilva/nested_list/blob/main/hackerrank_nested_list.ipynb\" target=\"_parent\"><img src=\"https://colab.research.google.com/assets/colab-badge.svg\" alt=\"Open In Colab\"/></a>"
      ]
    },
    {
      "cell_type": "code",
      "source": [
        "#start of solution"
      ],
      "metadata": {
        "id": "76hv7Vf18a2v"
      },
      "execution_count": null,
      "outputs": []
    },
    {
      "cell_type": "code",
      "source": [
        "#create empty score\n",
        "score_list = {}\n",
        "\n",
        "#take in user input for range\n",
        "#take in user input for name and scores\n",
        "#populate the score list with key and value pairs for scores and names\n",
        "for i in range(int(input())):\n",
        "  name = input()\n",
        "  scores = float(input())\n",
        "\n",
        "  if scores in score_list:\n",
        "    score_list[scores].append(name)\n",
        "\n",
        "  else:\n",
        "    score_list[scores] = [name]\n",
        "\n",
        "\n",
        "#create a new list\n",
        "new_list = []\n",
        "\n",
        "#add scores and score_list to new_list\n",
        "for i in score_list:\n",
        "  new_list.append([i,score_list[i]])\n",
        "\n",
        "new_list.sort()\n",
        "runner_up = [names[1] for names in new_list]\n",
        "results = runner_up[1]\n",
        "results.sort()\n",
        "print(*results, sep = \"\\n\")\n",
        "#print(\"The second lowest grade belongs to \",*results, sep = \"\\n\")"
      ],
      "metadata": {
        "colab": {
          "base_uri": "https://localhost:8080/"
        },
        "id": "riY86x0z7aRk",
        "outputId": "3714b96e-1db9-4d66-aeb2-3b5064dc841d"
      },
      "execution_count": 14,
      "outputs": [
        {
          "output_type": "stream",
          "name": "stdout",
          "text": [
            "5\n",
            "Harry\n",
            "37.21\n",
            "Berry\n",
            "37.21\n",
            "Tina\n",
            "37.2\n",
            "Akriti\n",
            "41\n",
            "Harsh\n",
            "39\n",
            "['Berry', 'Harry']\n"
          ]
        }
      ]
    },
    {
      "cell_type": "code",
      "source": [],
      "metadata": {
        "id": "mJHBv61zgvKi"
      },
      "execution_count": null,
      "outputs": []
    }
  ]
}